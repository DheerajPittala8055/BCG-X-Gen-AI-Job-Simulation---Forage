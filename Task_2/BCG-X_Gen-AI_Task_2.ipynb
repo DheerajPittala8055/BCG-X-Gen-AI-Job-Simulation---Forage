{
 "cells": [
  {
   "cell_type": "markdown",
   "id": "7bdd053f-6984-43d1-a4f3-3d6f4d5b0794",
   "metadata": {},
   "source": [
    "# <center> Building a Financial Chatbot"
   ]
  },
  {
   "cell_type": "markdown",
   "id": "4f264182-3bec-4025-9934-ae4edc421609",
   "metadata": {},
   "source": [
    "The following is the script for creation of financial chatbot which I named as **FinBot**, which is a python-based AI financial chatbot that provides responses to user queries (build on the basis of pre-defined questions and results attained through Task 1 in the current Job simulation). This bot is designed in March, 2025 and hence it only provides data prior to 3 years from now."
   ]
  },
  {
   "cell_type": "code",
   "execution_count": 12,
   "id": "18f673c1-0cda-4759-8ffb-959a8da06fcc",
   "metadata": {},
   "outputs": [],
   "source": [
    "# Import necessary libraries\n",
    "\n",
    "import pandas as pd\n",
    "import matplotlib.pyplot as plt\n",
    "import seaborn as sns"
   ]
  },
  {
   "cell_type": "markdown",
   "id": "c65f5953-f2e2-480a-b401-d25bf76aef84",
   "metadata": {},
   "source": [
    "# Load Financial Data"
   ]
  },
  {
   "cell_type": "code",
   "execution_count": 10,
   "id": "f1677480-c7a1-4195-9330-cb2c2daba539",
   "metadata": {},
   "outputs": [],
   "source": [
    "def load_data():\n",
    "    try:\n",
    "        final_report = pd.read_csv(r\"C:\\Users\\dp1257\\Downloads\\final_data_report.csv\")\n",
    "        summary_report = pd.read_csv(r\"C:\\Users\\dp1257\\Downloads\\summary_report\")\n",
    "        print(\"Financial data successfully loaded!\")\n",
    "        return final_report, summary_report\n",
    "    except Exception as e:\n",
    "        print(f\"Error loading data: {e}\")\n",
    "        return None, None"
   ]
  },
  {
   "cell_type": "markdown",
   "id": "f1edca5e-c564-4389-9c06-7f2fb2b6d163",
   "metadata": {},
   "source": [
    "# Greeting Function\n",
    "Greeting the User and Initial Interaction"
   ]
  },
  {
   "cell_type": "code",
   "execution_count": 1,
   "id": "2936cfaa-14fc-4ded-848e-88e95e2f67a9",
   "metadata": {},
   "outputs": [],
   "source": [
    "def greet_user():\n",
    "    print(\"Hello! I am FinBot, your AI financial assistant.\")\n",
    "    response = input(\"Would you like to chat about financial information? (yes/no): \").strip().lower()\n",
    "    \n",
    "    if response in [\"yes\", \"y\", \"yeah\", \"sure\", \"ok\"]:\n",
    "        return True\n",
    "    else:\n",
    "        print(\"Thank you! Have a great day!\")\n",
    "        return False"
   ]
  },
  {
   "cell_type": "markdown",
   "id": "773d8580-2bc1-49cb-860e-b7998476b3d1",
   "metadata": {},
   "source": [
    "# Display Menu Options\n",
    "Display Available Areas of Inquiry"
   ]
  },
  {
   "cell_type": "code",
   "execution_count": 13,
   "id": "3574b376-ae48-4a70-b50c-5523d8149245",
   "metadata": {},
   "outputs": [],
   "source": [
    "def show_options():\n",
    "    print(\"\\nI can assist you with the following financial topics:\")\n",
    "    options = [\n",
    "        \"1. Revenue & Net Income Analysis\",\n",
    "        \"2. Assets & Liabilities Trends\",\n",
    "        \"3. Cash Flow & Financial Health\",\n",
    "        \"4. Compare Financial Trends (Graphs)\",\n",
    "        \"5. Exit\"\n",
    "    ]\n",
    "    for option in options:\n",
    "        print(option)\n",
    "    \n",
    "    choice = input(\"\\nPlease select an option (1-5): \").strip()\n",
    "    return choice"
   ]
  },
  {
   "cell_type": "markdown",
   "id": "0b3af313-783d-462b-9656-646253737e7c",
   "metadata": {},
   "source": [
    "# Retrieving Financial Data\n",
    "Fetching answers based on supplied data"
   ]
  },
  {
   "cell_type": "code",
   "execution_count": 14,
   "id": "d7198599-b88a-4ef7-9597-f0f9dc7e1a6c",
   "metadata": {},
   "outputs": [],
   "source": [
    "def fetch_financial_info(choice, final_report, summary_report):\n",
    "    if choice == \"1\":\n",
    "        print(\"\\nYou chose: Revenue & Net Income Analysis\")\n",
    "        company = input(\"Enter the company name (Apple/Microsoft/Tesla): \").strip()\n",
    "        \n",
    "        if company not in final_report[\"Company\"].values:\n",
    "            print(\"Sorry, no data available for this company.\")\n",
    "            return\n",
    "        \n",
    "        latest_year = final_report[final_report[\"Company\"] == company][\"Year\"].max()\n",
    "        latest_data = final_report[(final_report[\"Company\"] == company) & (final_report[\"Year\"] == latest_year)]\n",
    "        \n",
    "        revenue = latest_data[\"Total Revenue\"].values[0]\n",
    "        net_income = latest_data[\"Net Income\"].values[0]\n",
    "        revenue_growth = latest_data[\"Revenue Growth (%)\"].values[0]\n",
    "        net_income_growth = latest_data[\"Net Income Growth (%)\"].values[0]\n",
    "        \n",
    "        print(f\"\\n{company}'s Financials for {latest_year}:\")\n",
    "        print(f\"Total Revenue: ${revenue}\")\n",
    "        print(f\"Net Income: ${net_income}\")\n",
    "        print(f\"Revenue Growth: {revenue_growth:.2f}%\")\n",
    "        print(f\"Net Income Growth: {net_income_growth:.2f}%\")\n",
    "\n",
    "    elif choice == \"2\":\n",
    "        print(\"\\nYou chose: Assets & Liabilities Trends\")\n",
    "        company = input(\"Enter the company name (Apple/Microsoft/Tesla): \").strip()\n",
    "\n",
    "        if company not in final_report[\"Company\"].values:\n",
    "            print(\"Sorry, no data available for this company.\")\n",
    "            return\n",
    "        \n",
    "        latest_year = final_report[final_report[\"Company\"] == company][\"Year\"].max()\n",
    "        latest_data = final_report[(final_report[\"Company\"] == company) & (final_report[\"Year\"] == latest_year)]\n",
    "        \n",
    "        assets = latest_data[\"Total Assets\"].values[0]\n",
    "        liabilities = latest_data[\"Total Liabilities\"].values[0]\n",
    "        assets_growth = latest_data[\"Assets Growth (%)\"].values[0]\n",
    "        liabilities_growth = latest_data[\"Liabilities Growth (%)\"].values[0]\n",
    "        \n",
    "        print(f\"\\n{company}'s Financials for {latest_year}:\")\n",
    "        print(f\"Total Assets: ${assets}\")\n",
    "        print(f\"Total Liabilities: ${liabilities}\")\n",
    "        print(f\"Assets Growth: {assets_growth:.2f}%\")\n",
    "        print(f\"Liabilities Growth: {liabilities_growth:.2f}%\")\n",
    "\n",
    "    elif choice == \"3\":\n",
    "        print(\"\\nYou chose: Cash Flow & Financial Health\")\n",
    "        company = input(\"Enter the company name (Apple/Microsoft/Tesla): \").strip()\n",
    "\n",
    "        if company not in final_report[\"Company\"].values:\n",
    "            print(\"Sorry, no data available for this company.\")\n",
    "            return\n",
    "        \n",
    "        latest_year = final_report[final_report[\"Company\"] == company][\"Year\"].max()\n",
    "        latest_data = final_report[(final_report[\"Company\"] == company) & (final_report[\"Year\"] == latest_year)]\n",
    "        \n",
    "        cash_flow = latest_data[\"Cash Flow from Operating Activities\"].values[0]\n",
    "        cash_flow_growth = latest_data[\"Cash Flow Growth (%)\"].values[0]\n",
    "        \n",
    "        print(f\"\\n{company}'s Financials for {latest_year}:\")\n",
    "        print(f\"Cash Flow from Operating Activities: ${cash_flow}\")\n",
    "        print(f\"Cash Flow Growth: {cash_flow_growth:.2f}%\")\n",
    "\n",
    "    elif choice == \"4\":\n",
    "        print(\"\\nYou chose: Compare Financial Trends\")\n",
    "        print(\"Available comparisons: \")\n",
    "        print(\"1. Revenue Trends\")\n",
    "        print(\"2. Net Income Trends\")\n",
    "        print(\"3. Cash Flow Trends\")\n",
    "        \n",
    "        sub_choice = input(\"\\nEnter the option number (1-3): \").strip()\n",
    "        \n",
    "        if sub_choice == \"1\":\n",
    "            fetch_comparison(final_report, \"Total Revenue\", \"Revenue ($M)\")\n",
    "        elif sub_choice == \"2\":\n",
    "            fetch_comparison(final_report, \"Net Income\", \"Net Income ($M)\")\n",
    "        elif sub_choice == \"3\":\n",
    "            fetch_comparison(final_report, \"Cash Flow from Operating Activities\", \"Cash Flow ($M)\")\n",
    "        else:\n",
    "            print(\"Invalid option selected. Returning to main menu.\")\n",
    "\n",
    "    elif choice == \"5\":\n",
    "        print(\"Thank you for using FinBot. Have a great day!\")\n",
    "        return False\n",
    "    \n",
    "    else:\n",
    "        print(\"Sorry, I didn't understand that. Please choose a valid option.\")\n",
    "    \n",
    "    return True"
   ]
  },
  {
   "cell_type": "code",
   "execution_count": 15,
   "id": "23947d17-267c-4cf2-88fc-1c78ddba6c8e",
   "metadata": {},
   "outputs": [],
   "source": [
    "# Plot Financial Trends for a Single Company\n",
    "def plot_trend(final_report, company, metric, metric_label):\n",
    "    \"\"\"Function to plot financial trends for a company.\"\"\"\n",
    "    data = final_report[final_report[\"Company\"] == company]\n",
    "    \n",
    "    if data.empty:\n",
    "        print(f\"No data available for {company}.\")\n",
    "        return\n",
    "    \n",
    "    plt.figure(figsize=(8, 5))\n",
    "    sns.lineplot(x=data[\"Year\"], y=data[metric], marker=\"o\", label=company)\n",
    "    \n",
    "    plt.title(f\"{metric_label} Trend for {company}\", fontsize=14)\n",
    "    plt.xlabel(\"Year\", fontsize=12)\n",
    "    plt.ylabel(metric_label, fontsize=12)\n",
    "    plt.legend()\n",
    "    plt.grid(True)\n",
    "    \n",
    "    plt.show()"
   ]
  },
  {
   "cell_type": "code",
   "execution_count": 16,
   "id": "4b0e721b-50c7-4766-8082-668b28e48098",
   "metadata": {},
   "outputs": [],
   "source": [
    "# Compare Financial Metrics Across Companies\n",
    "def fetch_comparison(final_report, metric, metric_label):\n",
    "    \"\"\"Function to compare financial metrics across companies.\"\"\"\n",
    "    companies = final_report[\"Company\"].unique()\n",
    "    \n",
    "    plt.figure(figsize=(8, 5))\n",
    "    \n",
    "    for company in companies:\n",
    "        data = final_report[final_report[\"Company\"] == company]\n",
    "        if not data.empty:\n",
    "            sns.lineplot(x=data[\"Year\"], y=data[metric], marker=\"o\", label=company)\n",
    "    \n",
    "    plt.title(f\"{metric_label} Comparison\", fontsize=14)\n",
    "    plt.xlabel(\"Year\", fontsize=12)\n",
    "    plt.ylabel(metric_label, fontsize=12)\n",
    "    plt.legend()\n",
    "    plt.grid(True)\n",
    "    \n",
    "    plt.show()"
   ]
  },
  {
   "cell_type": "markdown",
   "id": "fec33e55-1492-4977-96d5-f6241535d8c8",
   "metadata": {},
   "source": [
    "# Main Function to Run the Chatbot"
   ]
  },
  {
   "cell_type": "code",
   "execution_count": 17,
   "id": "78c5da43-6951-4f99-ae67-63f4557f681e",
   "metadata": {},
   "outputs": [],
   "source": [
    "def main():\n",
    "    final_report, summary_report = load_data()\n",
    "    \n",
    "    if final_report is None or summary_report is None:\n",
    "        print(\"Unable to load financial data. Exiting.\")\n",
    "        return\n",
    "\n",
    "    if not greet_user():\n",
    "        return\n",
    "    \n",
    "    while True:\n",
    "        choice = show_options()\n",
    "        if not fetch_financial_info(choice, final_report, summary_report):\n",
    "            break\n",
    "        \n",
    "        further_input = input(\"\\nWould you like to ask another question? (yes/no): \").strip().lower()\n",
    "        if further_input not in [\"yes\", \"y\"]:\n",
    "            print(\"Thank you for using FinBot! Goodbye.\")\n",
    "            break"
   ]
  },
  {
   "cell_type": "code",
   "execution_count": 18,
   "id": "1a406d7a-7604-42d6-91ec-6708fb70c757",
   "metadata": {},
   "outputs": [
    {
     "name": "stdout",
     "output_type": "stream",
     "text": [
      "Financial data successfully loaded!\n",
      "Hello! I am FinBot, your AI financial assistant.\n"
     ]
    },
    {
     "name": "stdin",
     "output_type": "stream",
     "text": [
      "Would you like to chat about financial information? (yes/no):  Y\n"
     ]
    },
    {
     "name": "stdout",
     "output_type": "stream",
     "text": [
      "\n",
      "I can assist you with the following financial topics:\n",
      "1. Revenue & Net Income Analysis\n",
      "2. Assets & Liabilities Trends\n",
      "3. Cash Flow & Financial Health\n",
      "4. Compare Financial Trends (Graphs)\n",
      "5. Exit\n"
     ]
    },
    {
     "name": "stdin",
     "output_type": "stream",
     "text": [
      "\n",
      "Please select an option (1-5):  4\n"
     ]
    },
    {
     "name": "stdout",
     "output_type": "stream",
     "text": [
      "\n",
      "You chose: Compare Financial Trends\n",
      "Available comparisons: \n",
      "1. Revenue Trends\n",
      "2. Net Income Trends\n",
      "3. Cash Flow Trends\n"
     ]
    },
    {
     "name": "stdin",
     "output_type": "stream",
     "text": [
      "\n",
      "Enter the option number (1-3):  1\n"
     ]
    },
    {
     "data": {
      "image/png": "[encoded data removed]",
      "text/plain": [
       "<Figure size 800x500 with 1 Axes>"
      ]
     },
     "metadata": {},
     "output_type": "display_data"
    },
    {
     "name": "stdin",
     "output_type": "stream",
     "text": [
      "\n",
      "Would you like to ask another question? (yes/no):  yes\n"
     ]
    },
    {
     "name": "stdout",
     "output_type": "stream",
     "text": [
      "\n",
      "I can assist you with the following financial topics:\n",
      "1. Revenue & Net Income Analysis\n",
      "2. Assets & Liabilities Trends\n",
      "3. Cash Flow & Financial Health\n",
      "4. Compare Financial Trends (Graphs)\n",
      "5. Exit\n"
     ]
    },
    {
     "name": "stdin",
     "output_type": "stream",
     "text": [
      "\n",
      "Please select an option (1-5):  4\n"
     ]
    },
    {
     "name": "stdout",
     "output_type": "stream",
     "text": [
      "\n",
      "You chose: Compare Financial Trends\n",
      "Available comparisons: \n",
      "1. Revenue Trends\n",
      "2. Net Income Trends\n",
      "3. Cash Flow Trends\n"
     ]
    },
    {
     "name": "stdin",
     "output_type": "stream",
     "text": [
      "\n",
      "Enter the option number (1-3):  3\n"
     ]
    },
    {
     "data": {
      "image/png": "[encoded data removed]",
      "text/plain": [
       "<Figure size 800x500 with 1 Axes>"
      ]
     },
     "metadata": {},
     "output_type": "display_data"
    },
    {
     "name": "stdin",
     "output_type": "stream",
     "text": [
      "\n",
      "Would you like to ask another question? (yes/no):  YEah\n"
     ]
    },
    {
     "name": "stdout",
     "output_type": "stream",
     "text": [
      "Thank you for using FinBot! Goodbye.\n"
     ]
    }
   ],
   "source": [
    "# Run the chatbot\n",
    "main()"
   ]
  },
  {
   "cell_type": "code",
   "execution_count": 19,
   "id": "b5cbdd2b-76e3-4843-b4c2-4317a711f967",
   "metadata": {},
   "outputs": [
    {
     "name": "stdout",
     "output_type": "stream",
     "text": [
      "Financial data successfully loaded!\n",
      "Hello! I am FinBot, your AI financial assistant.\n"
     ]
    },
    {
     "name": "stdin",
     "output_type": "stream",
     "text": [
      "Would you like to chat about financial information? (yes/no):  Y\n"
     ]
    },
    {
     "name": "stdout",
     "output_type": "stream",
     "text": [
      "\n",
      "I can assist you with the following financial topics:\n",
      "1. Revenue & Net Income Analysis\n",
      "2. Assets & Liabilities Trends\n",
      "3. Cash Flow & Financial Health\n",
      "4. Compare Financial Trends (Graphs)\n",
      "5. Exit\n"
     ]
    },
    {
     "name": "stdin",
     "output_type": "stream",
     "text": [
      "\n",
      "Please select an option (1-5):  2\n"
     ]
    },
    {
     "name": "stdout",
     "output_type": "stream",
     "text": [
      "\n",
      "You chose: Assets & Liabilities Trends\n"
     ]
    },
    {
     "name": "stdin",
     "output_type": "stream",
     "text": [
      "Enter the company name (Apple/Microsoft/Tesla):  Microsoft\n"
     ]
    },
    {
     "name": "stdout",
     "output_type": "stream",
     "text": [
      "\n",
      "Microsoft's Financials for 2024:\n",
      "Total Assets: $512163\n",
      "Total Liabilities: $243686\n",
      "Assets Growth: 0.00%\n",
      "Liabilities Growth: 0.00%\n"
     ]
    },
    {
     "name": "stdin",
     "output_type": "stream",
     "text": [
      "\n",
      "Would you like to ask another question? (yes/no):  Exit\n"
     ]
    },
    {
     "name": "stdout",
     "output_type": "stream",
     "text": [
      "Thank you for using FinBot! Goodbye.\n"
     ]
    }
   ],
   "source": [
    "# Run the chatbot\n",
    "main()"
   ]
  },
  {
   "cell_type": "code",
   "execution_count": null,
   "id": "868f2838-891a-4a7e-923a-3ecb36307017",
   "metadata": {},
   "outputs": [],
   "source": []
  }
 ],
 "metadata": {
  "kernelspec": {
   "display_name": "Python 3 (ipykernel)",
   "language": "python",
   "name": "python3"
  },
  "language_info": {
   "codemirror_mode": {
    "name": "ipython",
    "version": 3
   },
   "file_extension": ".py",
   "mimetype": "text/x-python",
   "name": "python",
   "nbconvert_exporter": "python",
   "pygments_lexer": "ipython3",
   "version": "3.11.2"
  }
 },
 "nbformat": 4,
 "nbformat_minor": 5
}
